{
 "cells": [
  {
   "cell_type": "code",
   "execution_count": 250,
   "metadata": {},
   "outputs": [],
   "source": [
    "# Dependencies\n",
    "import pandas as pd\n",
    "import matplotlib.pyplot as plt "
   ]
  },
  {
   "cell_type": "code",
   "execution_count": 251,
   "metadata": {},
   "outputs": [],
   "source": [
    "# load the weather data from a json\n",
    "with open(\"../mike_analytics/LA_weather_data.json\", 'r') as myfile:\n",
    "    data=myfile.read()\n",
    "\n",
    "# parse file\n",
    "data_json = json.loads(data)"
   ]
  },
  {
   "cell_type": "code",
   "execution_count": 252,
   "metadata": {},
   "outputs": [
    {
     "data": {
      "text/html": [
       "<div>\n",
       "<style scoped>\n",
       "    .dataframe tbody tr th:only-of-type {\n",
       "        vertical-align: middle;\n",
       "    }\n",
       "\n",
       "    .dataframe tbody tr th {\n",
       "        vertical-align: top;\n",
       "    }\n",
       "\n",
       "    .dataframe thead th {\n",
       "        text-align: right;\n",
       "    }\n",
       "</style>\n",
       "<table border=\"1\" class=\"dataframe\">\n",
       "  <thead>\n",
       "    <tr style=\"text-align: right;\">\n",
       "      <th></th>\n",
       "      <th>Time</th>\n",
       "      <th>Temperature</th>\n",
       "      <th>Cloud %</th>\n",
       "    </tr>\n",
       "    <tr>\n",
       "      <th>Day</th>\n",
       "      <th></th>\n",
       "      <th></th>\n",
       "      <th></th>\n",
       "    </tr>\n",
       "  </thead>\n",
       "  <tbody>\n",
       "    <tr>\n",
       "      <td>2012-10-01</td>\n",
       "      <td>13:00:00</td>\n",
       "      <td>65.966000</td>\n",
       "      <td>8</td>\n",
       "    </tr>\n",
       "    <tr>\n",
       "      <td>2012-10-01</td>\n",
       "      <td>14:00:00</td>\n",
       "      <td>65.956663</td>\n",
       "      <td>8</td>\n",
       "    </tr>\n",
       "    <tr>\n",
       "      <td>2012-10-01</td>\n",
       "      <td>15:00:00</td>\n",
       "      <td>65.947269</td>\n",
       "      <td>8</td>\n",
       "    </tr>\n",
       "    <tr>\n",
       "      <td>2012-10-01</td>\n",
       "      <td>16:00:00</td>\n",
       "      <td>65.937931</td>\n",
       "      <td>8</td>\n",
       "    </tr>\n",
       "    <tr>\n",
       "      <td>2012-10-01</td>\n",
       "      <td>17:00:00</td>\n",
       "      <td>65.928594</td>\n",
       "      <td>8</td>\n",
       "    </tr>\n",
       "  </tbody>\n",
       "</table>\n",
       "</div>"
      ],
      "text/plain": [
       "                Time  Temperature  Cloud %\n",
       "Day                                       \n",
       "2012-10-01  13:00:00    65.966000        8\n",
       "2012-10-01  14:00:00    65.956663        8\n",
       "2012-10-01  15:00:00    65.947269        8\n",
       "2012-10-01  16:00:00    65.937931        8\n",
       "2012-10-01  17:00:00    65.928594        8"
      ]
     },
     "execution_count": 252,
     "metadata": {},
     "output_type": "execute_result"
    }
   ],
   "source": [
    "# make dataframe that contains the day, time, temperature, and the cloud percentage by the hour \n",
    "# Convert temp: K -> F\n",
    "\n",
    "days=[]\n",
    "time=[]\n",
    "temp=[]\n",
    "clouds=[]\n",
    "\n",
    "for i in range(len(data_json)):\n",
    "    days.append(data_json[i]['dt_iso'][0:10])\n",
    "    time.append(data_json[i]['dt_iso'][11:19])\n",
    "    temp.append(1.8*(data_json[i][\"main\"][\"temp\"]-273)+32)\n",
    "    clouds.append(data_json[i][\"clouds\"][\"all\"])\n",
    "    \n",
    "weather_hourly_df = pd.DataFrame({\"Day\": days, \"Time\": time, \"Temperature\": temp, \"Cloud %\": clouds})\n",
    "weather_hourly_df.set_index('Day').head()"
   ]
  },
  {
   "cell_type": "code",
   "execution_count": 318,
   "metadata": {},
   "outputs": [
    {
     "data": {
      "text/html": [
       "<div>\n",
       "<style scoped>\n",
       "    .dataframe tbody tr th:only-of-type {\n",
       "        vertical-align: middle;\n",
       "    }\n",
       "\n",
       "    .dataframe tbody tr th {\n",
       "        vertical-align: top;\n",
       "    }\n",
       "\n",
       "    .dataframe thead th {\n",
       "        text-align: right;\n",
       "    }\n",
       "</style>\n",
       "<table border=\"1\" class=\"dataframe\">\n",
       "  <thead>\n",
       "    <tr style=\"text-align: right;\">\n",
       "      <th></th>\n",
       "      <th>Mean temperature</th>\n",
       "      <th>Mean cloud %</th>\n",
       "      <th>Weather Condition</th>\n",
       "    </tr>\n",
       "    <tr>\n",
       "      <th>Day</th>\n",
       "      <th></th>\n",
       "      <th></th>\n",
       "      <th></th>\n",
       "    </tr>\n",
       "  </thead>\n",
       "  <tbody>\n",
       "    <tr>\n",
       "      <td>2012-10-01</td>\n",
       "      <td>65.919210</td>\n",
       "      <td>8.000000</td>\n",
       "      <td>b</td>\n",
       "    </tr>\n",
       "    <tr>\n",
       "      <td>2012-10-02</td>\n",
       "      <td>73.201709</td>\n",
       "      <td>6.083333</td>\n",
       "      <td>b</td>\n",
       "    </tr>\n",
       "    <tr>\n",
       "      <td>2012-10-03</td>\n",
       "      <td>78.815375</td>\n",
       "      <td>1.708333</td>\n",
       "      <td>b</td>\n",
       "    </tr>\n",
       "    <tr>\n",
       "      <td>2012-10-04</td>\n",
       "      <td>73.396250</td>\n",
       "      <td>55.666667</td>\n",
       "      <td>r</td>\n",
       "    </tr>\n",
       "    <tr>\n",
       "      <td>2012-10-05</td>\n",
       "      <td>67.907000</td>\n",
       "      <td>38.875000</td>\n",
       "      <td>r</td>\n",
       "    </tr>\n",
       "  </tbody>\n",
       "</table>\n",
       "</div>"
      ],
      "text/plain": [
       "            Mean temperature  Mean cloud % Weather Condition\n",
       "Day                                                         \n",
       "2012-10-01         65.919210      8.000000                 b\n",
       "2012-10-02         73.201709      6.083333                 b\n",
       "2012-10-03         78.815375      1.708333                 b\n",
       "2012-10-04         73.396250     55.666667                 r\n",
       "2012-10-05         67.907000     38.875000                 r"
      ]
     },
     "execution_count": 318,
     "metadata": {},
     "output_type": "execute_result"
    }
   ],
   "source": [
    "# make dataframe that contains the day, time, temperature, and the cloud percentage by the day\n",
    "# form weather condition list that marks all daily cloud avrages that are less than 10% as \"good\" and the rest,\"bad\" \n",
    "\n",
    "days=weather_hourly_df[\"Day\"].unique()\n",
    "temp=[]\n",
    "clouds=[]\n",
    "weather=[]\n",
    "\n",
    "for day in days:\n",
    "    day_df=weather_hourly_df.loc[weather_hourly_df[\"Day\"]==day]\n",
    "    temp.append(day_df[\"Temperature\"].mean())\n",
    "    clouds.append(day_df[\"Cloud %\"].mean())\n",
    "    if day_df[\"Cloud %\"].mean() > 10: \n",
    "        weather.append(\"r\")\n",
    "    else:\n",
    "        weather.append(\"b\")\n",
    "    \n",
    "    \n",
    "weather_df = pd.DataFrame({\"Day\": days, \"Mean temperature\": temp, \"Mean cloud %\": clouds, \"Weather Condition\":weather})\n",
    "weather_df.set_index('Day').head()"
   ]
  },
  {
   "cell_type": "code",
   "execution_count": 324,
   "metadata": {},
   "outputs": [
    {
     "data": {
      "text/plain": [
       "0       b\n",
       "1       b\n",
       "2       b\n",
       "3       r\n",
       "4       r\n",
       "       ..\n",
       "2555    b\n",
       "2556    r\n",
       "2557    b\n",
       "2558    b\n",
       "2559    b\n",
       "Name: Weather Condition, Length: 2560, dtype: object"
      ]
     },
     "execution_count": 324,
     "metadata": {},
     "output_type": "execute_result"
    }
   ],
   "source": [
    "weather_df[\"Weather Condition\"]"
   ]
  },
  {
   "cell_type": "code",
   "execution_count": 352,
   "metadata": {
    "scrolled": true
   },
   "outputs": [
    {
     "data": {
      "image/png": "[encoded data removed]",
      "text/plain": [
       "<Figure size 432x288 with 1 Axes>"
      ]
     },
     "metadata": {
      "needs_background": "light"
     },
     "output_type": "display_data"
    },
    {
     "data": {
      "image/png": "[encoded data removed]",
      "text/plain": [
       "<Figure size 432x288 with 1 Axes>"
      ]
     },
     "metadata": {
      "needs_background": "light"
     },
     "output_type": "display_data"
    }
   ],
   "source": [
    "plt.subplot2grid((2,1), (0,0))\n",
    "plt.plot(weather_df[\"Mean temperature\"], color= 'b')\n",
    "plt.xlabel('Year')\n",
    "plt.ylabel('LA temp (°F)')\n",
    "\n",
    "test=weather_df[\"Mean temperature\"]\n",
    "plt.plot(test.ewm(span = 10).mean(),  color=\"black\")\n",
    "plt.show()\n",
    "\n",
    "plt.subplot2grid((2,1), (0,0))\n",
    "test=weather_df[\"Mean temperature\"]\n",
    "plt.plot(test-test.ewm(span = 10).mean())\n",
    "plt.axhline(y=0, color='black', linestyle='-', linewidth= 0.4 )\n",
    "plt.xlabel('Year')\n",
    "plt.ylabel('LA temp residuals (°F)')\n",
    "plt.show()"
   ]
  }
 ],
 "metadata": {
  "kernelspec": {
   "display_name": "Python [conda env:PythonData]",
   "language": "python",
   "name": "conda-env-PythonData-py"
  },
  "language_info": {
   "codemirror_mode": {
    "name": "ipython",
    "version": 3
   },
   "file_extension": ".py",
   "mimetype": "text/x-python",
   "name": "python",
   "nbconvert_exporter": "python",
   "pygments_lexer": "ipython3",
   "version": "3.6.9"
  }
 },
 "nbformat": 4,
 "nbformat_minor": 2
}
